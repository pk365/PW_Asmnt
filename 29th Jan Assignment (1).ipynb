{
 "cells": [
  {
   "cell_type": "markdown",
   "id": "853080a7-62f5-4ce6-a007-ae2e2cceb5d7",
   "metadata": {},
   "source": [
    "                    # Assignment 1 Dated 29th Jan 2023"
   ]
  },
  {
   "cell_type": "markdown",
   "id": "670af7cf-1e34-4a90-86e6-d28139da73c3",
   "metadata": {},
   "source": [
    "Ans.1)  Python programming language is developed by Guido van Rossum. "
   ]
  },
  {
   "cell_type": "markdown",
   "id": "962431e2-1f1f-4eae-873a-2c21203d6e9d",
   "metadata": {},
   "source": [
    "Ans.2)  Python is interpreted programming language and at present It is supporting object-oriented, structured, and functional programming. "
   ]
  },
  {
   "cell_type": "markdown",
   "id": "31a7403e-afd8-41d3-909e-ae90b37b1793",
   "metadata": {},
   "source": [
    "Ans.3)  Yes, Python is a case-sensitive language when deal with identifiers. "
   ]
  },
  {
   "cell_type": "markdown",
   "id": "c3866f9e-09ae-42b5-8a52-072e6c42c187",
   "metadata": {},
   "source": [
    "Ans.4)  The correct extension of a python file is .py"
   ]
  },
  {
   "cell_type": "markdown",
   "id": "fa27b46d-1822-4c00-a0d6-cdda76951c1c",
   "metadata": {},
   "source": [
    "Ans.5)  Python is interpreted programming language. Hence Codes are interpreted in Pyhton."
   ]
  },
  {
   "cell_type": "markdown",
   "id": "351a767b-e23a-4fc6-a7cd-394476f32b17",
   "metadata": {},
   "source": [
    "Ans.6)  Python uses indentation to indicate a block of code. Indentation refers to the spaces at the beginning of a code line.  "
   ]
  },
  {
   "cell_type": "markdown",
   "id": "b33b4427-1b7b-4257-9d4d-6262740cb8b9",
   "metadata": {},
   "source": [
    "Ans.7)  Python uses a # for a single line comment. "
   ]
  },
  {
   "cell_type": "markdown",
   "id": "a6be6498-a8e9-419f-8f68-52f4c081eb89",
   "metadata": {},
   "source": [
    "Ans.8)  Using python_version() function, We can find the Python verison."
   ]
  },
  {
   "cell_type": "markdown",
   "id": "b0bfbdb9-eb2e-4eed-892f-b059ccabef21",
   "metadata": {},
   "source": [
    "Ans.9)  Python supports the creation of anonymous functions at runtime, using a construct called lambda. "
   ]
  },
  {
   "cell_type": "markdown",
   "id": "655099f4-91d9-42e3-a62a-aa8805fd2eae",
   "metadata": {},
   "source": [
    "Ans.10)  pip stands for preferred installer program."
   ]
  },
  {
   "cell_type": "markdown",
   "id": "c4126c5b-9034-426e-9141-db4ffd9b0159",
   "metadata": {},
   "source": [
    "Ans.11)  The Name of few in-built python functions are as under: \n",
    "\n",
    "1. bool()\tReturns the boolean value of the specified object\n",
    "2. input()\tAllowing user input\n",
    "3. int()\tReturns an integer number\n",
    "4. len()\tReturns the length of an object\n",
    "5. list()\tReturns a list\n",
    "6. print()\tPrints to the standard output device\n",
    "7. round()\tRounds a numbers\n",
    "8. set()\tReturns a new set object\n",
    "9. str()\tReturns a string object\n",
    "10. sum()\tSums the items of an iterator\n",
    "11. tuple()\tReturns a tuple\n",
    "12. type()\tReturns the type of an object"
   ]
  },
  {
   "cell_type": "markdown",
   "id": "2e9b6418-6bec-4b85-95d5-a97d871639e1",
   "metadata": {},
   "source": [
    "Ans.12) 79 characters is the maximum possible length of identifer in python."
   ]
  },
  {
   "cell_type": "markdown",
   "id": "81784cd1-51b7-49f7-b4e4-36ab17ebb59f",
   "metadata": {},
   "source": [
    "Ans.13) The benefits of using Python is as follows: \n",
    "\n",
    "1. Python works on different platforms (Windows, Mac, Linux, Raspberry Pi, etc).\n",
    "2. Python has a simple syntax similar to the English language.\n",
    "3. Python has syntax that allows developers to write programs with fewer lines than some other programming languages.\n",
    "4. Python runs on an interpreter system, meaning that code can be executed as soon as it is written. This means that prototyping can be very quick."
   ]
  },
  {
   "cell_type": "markdown",
   "id": "a5d15492-d3f5-4aa6-a52b-4b87a81694f0",
   "metadata": {},
   "source": [
    "Ans.14) Memory in Python is managed by Python private heap space. All Python objects and data structures are located in a private heap. This private heap is taken care of by Python Interpreter itself, and a programmer doesn’t have access to this private heap.\n",
    "Python memory manager takes care of the allocation of Python private heap space. Memory for Python private heap space is made available by Python’s in-built garbage collector, which recycles and frees up all the unused memory."
   ]
  },
  {
   "cell_type": "markdown",
   "id": "513bcca3-0ea8-451a-93c3-6e002d46e2cc",
   "metadata": {},
   "source": [
    "Ans.15) We can can download Python for free from the following website: https://www.python.org/. We can easily add Python to Windows path by downloading a recent version of Python, and then checking the box to Add Python to PATH at the bottom of the setup screen:\n",
    "\n",
    "Finish the installation, and we good to go.\n"
   ]
  },
  {
   "cell_type": "markdown",
   "id": "276d7345-4d78-4a15-92fd-2d375fccbe16",
   "metadata": {},
   "source": [
    "Ans.16)  Yes, Indentation required in Python. Python relies on indentation (whitespace at the beginning of a line) to define scope in the code. Other programming languages often use curly-brackets for this purpose."
   ]
  }
 ],
 "metadata": {
  "kernelspec": {
   "display_name": "Python 3 (ipykernel)",
   "language": "python",
   "name": "python3"
  },
  "language_info": {
   "codemirror_mode": {
    "name": "ipython",
    "version": 3
   },
   "file_extension": ".py",
   "mimetype": "text/x-python",
   "name": "python",
   "nbconvert_exporter": "python",
   "pygments_lexer": "ipython3",
   "version": "3.10.8"
  }
 },
 "nbformat": 4,
 "nbformat_minor": 5
}
