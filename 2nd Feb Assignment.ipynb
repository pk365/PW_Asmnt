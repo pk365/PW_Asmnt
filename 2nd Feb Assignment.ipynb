{
 "cells": [
  {
   "cell_type": "markdown",
   "id": "7120a1af-78b5-415e-b230-1e2a935d0444",
   "metadata": {},
   "source": [
    "#### Q1. Explain with an example each when to use a for loop and a while loop."
   ]
  },
  {
   "cell_type": "markdown",
   "id": "a3a6eb57-3975-4f23-ab2f-410807dcfa20",
   "metadata": {},
   "source": [
    "##### While loop\n",
    "Python while loop is used to run a block code until a certain condition is met.\n",
    "\n",
    "The syntax of while loop is\n",
    "\n",
    "while condition:\n",
    "\n",
    "    # body of while loop\n",
    "   \n",
    "   \n",
    "Here,\n",
    "\n",
    "1. A while loop evaluates the condition\n",
    "2. If the condition evaluates to True, the code inside the while loop is executed.\n",
    "3. condition is evaluated again.\n",
    "4. This process continues until the condition is False.\n",
    "5. When condition evaluates to False, the loop stops.\n",
    "\n",
    "Example:"
   ]
  },
  {
   "cell_type": "code",
   "execution_count": 1,
   "id": "75191a74-79e1-4c07-9c4b-00d8becb59c4",
   "metadata": {},
   "outputs": [
    {
     "name": "stdout",
     "output_type": "stream",
     "text": [
      "\n",
      "*\n",
      "**\n",
      "***\n",
      "****\n",
      "*****\n",
      "******\n",
      "*******\n",
      "********\n",
      "*********\n"
     ]
    }
   ],
   "source": [
    "#pyhton Program to print a patter\n",
    "\n",
    "n=10\n",
    "counter=0\n",
    "while counter<n:\n",
    "    print(\"*\"*counter)\n",
    "    counter=counter+1"
   ]
  },
  {
   "cell_type": "markdown",
   "id": "83f2d8de-3823-459e-9e8b-ac7325a6b91f",
   "metadata": {},
   "source": [
    "#### For Loop in pyhton\n",
    "In Python, the for loop is used to run a block of code for a certain number of times. It is used to iterate over any sequences such as list, tuple, string, etc.\n",
    "\n",
    "\n",
    "The syntax of the for loop is:\n",
    "\n",
    "    for val in sequence:\n",
    "       # statement(s)\n",
    "\n",
    "Example:"
   ]
  },
  {
   "cell_type": "code",
   "execution_count": 9,
   "id": "52662a17-b564-4b30-be91-3ef28bf18eee",
   "metadata": {},
   "outputs": [
    {
     "name": "stdout",
     "output_type": "stream",
     "text": [
      "1  3  5  7  9  11  13  "
     ]
    }
   ],
   "source": [
    "# Python program to print odd numbes\n",
    "n=15\n",
    "for i in range(0,n):\n",
    "    if i%2 !=0:\n",
    "        print(i,\" \",end=\"\")\n",
    "        "
   ]
  },
  {
   "cell_type": "markdown",
   "id": "5cba41ce-8c27-4633-ba77-125cf3ae304f",
   "metadata": {},
   "source": [
    "#### Q2. Write a python program to print the sum and product of the first 10 natural numbers using for and while loop."
   ]
  },
  {
   "cell_type": "code",
   "execution_count": 15,
   "id": "836da40d-45f5-43f2-b856-2319702b9b94",
   "metadata": {},
   "outputs": [
    {
     "name": "stdout",
     "output_type": "stream",
     "text": [
      "The Sum of first 10 Numbers is: 55\n",
      "The Product of first 10 Numbers is: 605\n"
     ]
    }
   ],
   "source": [
    "#program to find sum and Product of fisrt 10 Natural Numbers\n",
    "n=10\n",
    "sum=0\n",
    "i=1\n",
    "while i<=n:\n",
    "    sum=sum+i\n",
    "    i=i+1\n",
    "    product=sum*i\n",
    "print(\"The Sum of first 10 Numbers is:\",sum)\n",
    "print(\"The Product of first 10 Numbers is:\", product)\n"
   ]
  },
  {
   "cell_type": "markdown",
   "id": "8a33a82b-fdc1-4aca-a178-d42c36d4d110",
   "metadata": {},
   "source": [
    "#### Q3. Create a python program to compute the electricity bill for a household.\n",
    "\n",
    "The per-unit charges in rupees are as follows: For the first 100 units, the user will be charged Rs. 4.5 per\n",
    "unit, for the next 100 units, the user will be charged Rs. 6 per unit, and for the next 100 units, the user will\n",
    "be charged Rs. 10 per unit, After 300 units and above the user will be charged Rs. 20 per unit."
   ]
  },
  {
   "cell_type": "code",
   "execution_count": 36,
   "id": "98b99531-c690-4a4a-ad32-d6a8749ad2a0",
   "metadata": {},
   "outputs": [
    {
     "name": "stdin",
     "output_type": "stream",
     "text": [
      "Enter your Meter reading: 310\n"
     ]
    },
    {
     "name": "stdout",
     "output_type": "stream",
     "text": [
      "Your Electricity bill is: 2250.0\n"
     ]
    }
   ],
   "source": [
    "#python program to compute the electricity bill for a household.\n",
    "n=int(input(\"Enter your Meter reading:\"))\n",
    "if n<=100:\n",
    "    print(\"Your Electricity bill is:\", n*4.5)\n",
    "elif n>100 and n<=200:\n",
    "    print(\"Your Electricity bill is:\", 100*4.5+(n-100)*6)\n",
    "elif n>200 and n<=300:  \n",
    "    print(\"Your Electricity bill is:\", 100*4.5+100*6+(n-200)*10)\n",
    "else:\n",
    "    print(\"Your Electricity bill is:\", 100*4.5+100*6+100*10+(n-300)*20)\n",
    "\n",
    "    "
   ]
  },
  {
   "cell_type": "markdown",
   "id": "6b9ed923-4c5b-44e8-aedc-1e01bd36017b",
   "metadata": {},
   "source": [
    "#### Q4. Create a list of numbers from 1 to 100. Use for loop and while loop to calculate the cube of each number and if the cube of that number is divisible by 4 or 5 then append that number in a list and print that list."
   ]
  },
  {
   "cell_type": "code",
   "execution_count": 7,
   "id": "ddff8de5-8c99-4de8-b229-fc1ee3f60d9b",
   "metadata": {},
   "outputs": [
    {
     "name": "stdout",
     "output_type": "stream",
     "text": [
      "[2, 4, 5, 6, 8, 10, 12, 14, 15, 16, 18, 20, 22, 24, 25, 26, 28, 30, 32, 34, 35, 36, 38, 40, 42, 44, 45, 46, 48, 50, 52, 54, 55, 56, 58, 60, 62, 64, 65, 66, 68, 70, 72, 74, 75, 76, 78, 80, 82, 84, 85, 86, 88, 90, 92, 94, 95, 96, 98, 100]\n"
     ]
    }
   ],
   "source": [
    "#Using for Loop\n",
    "l=list(range(1,101))\n",
    "l1=[]\n",
    "for i in l: \n",
    "    cube=i**3\n",
    "    if cube%4==0 or cube%5==0 :\n",
    "        l1.append(i)\n",
    "print(l1)"
   ]
  },
  {
   "cell_type": "code",
   "execution_count": 1,
   "id": "5da7dca6-be3d-4ad7-8a0a-688d5c40ec30",
   "metadata": {},
   "outputs": [
    {
     "name": "stdout",
     "output_type": "stream",
     "text": [
      "[2, 4, 5, 6, 8, 10, 12, 14, 15, 16, 18, 20, 22, 24, 25, 26, 28, 30, 32, 34, 35, 36, 38, 40, 42, 44, 45, 46, 48, 50, 52, 54, 55, 56, 58, 60, 62, 64, 65, 66, 68, 70, 72, 74, 75, 76, 78, 80, 82, 84, 85, 86, 88, 90, 92, 94, 95, 96, 98, 100]\n"
     ]
    }
   ],
   "source": [
    "#Using while Loop\n",
    "l=list(range(1,101))\n",
    "l1=[]\n",
    "i=1\n",
    "while i<=len(l):\n",
    "    cube=i**3\n",
    "    if cube%4==0 or cube%5==0 :\n",
    "        l1.append(i)\n",
    "    i=i+1\n",
    "print(l1)"
   ]
  },
  {
   "cell_type": "markdown",
   "id": "adfe9bbd-afa7-4a61-94d9-cb70dd16985d",
   "metadata": {},
   "source": [
    "#### Q.5 Write a program to filter count vowels in the below-given string. string = \"I want to become a data scientist\""
   ]
  },
  {
   "cell_type": "code",
   "execution_count": 18,
   "id": "6bf33a4a-2d6a-43f7-8fc9-874a27bbc759",
   "metadata": {},
   "outputs": [
    {
     "name": "stdout",
     "output_type": "stream",
     "text": [
      "vowel_count = 12\n",
      "Vowels in given string = ['I', 'a', 'o', 'e', 'o', 'e', 'a', 'a', 'a', 'i', 'e', 'i']\n"
     ]
    }
   ],
   "source": [
    "s = \"I want to become a data scientist\"\n",
    "vowel = ['a','e','i','I','o','u',]\n",
    "vowel_string = []\n",
    "vowel_count = 0\n",
    "for i in s:\n",
    "    for j in vowel:\n",
    "         if i == j:\n",
    "            vowel_count = vowel_count + 1\n",
    "            vowel_string.append(i)\n",
    "print(\"vowel_count =\",Vowel_count)\n",
    "print(\"Vowels in given string =\",vowel_string)\n"
   ]
  }
 ],
 "metadata": {
  "kernelspec": {
   "display_name": "Python 3 (ipykernel)",
   "language": "python",
   "name": "python3"
  },
  "language_info": {
   "codemirror_mode": {
    "name": "ipython",
    "version": 3
   },
   "file_extension": ".py",
   "mimetype": "text/x-python",
   "name": "python",
   "nbconvert_exporter": "python",
   "pygments_lexer": "ipython3",
   "version": "3.10.8"
  }
 },
 "nbformat": 4,
 "nbformat_minor": 5
}
