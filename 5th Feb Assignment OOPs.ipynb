{
 "cells": [
  {
   "cell_type": "markdown",
   "id": "2f9af7aa-8148-4d51-a5bb-d54a25c5c1dd",
   "metadata": {},
   "source": [
    "#### Q1. Explain Class and Object with respect to Object-Oriented Programming. Give a suitable example."
   ]
  },
  {
   "cell_type": "markdown",
   "id": "8c80d0d4-6464-455a-84ab-34759163bd4b",
   "metadata": {},
   "source": [
    "Ans. In Object-Oriented Programming (OOP), a class is a blueprint for creating objects of a particular type. It defines the properties and methods that an object of that class will have. An object is an instance of a class, which means it is a specific realization of that class. An object has its own state (properties) and behavior (methods), which are defined by the class it belongs to.\n",
    "\n",
    "Example:"
   ]
  },
  {
   "cell_type": "code",
   "execution_count": 2,
   "id": "eaceaec3-3cc2-4990-801f-1dad33a99b02",
   "metadata": {},
   "outputs": [
    {
     "name": "stdout",
     "output_type": "stream",
     "text": [
      "John\n",
      "36\n"
     ]
    }
   ],
   "source": [
    "# Defining a class called Person\n",
    "class Person:\n",
    "    def __init__(self, name, age):\n",
    "        self.name = name\n",
    "        self.age = age\n",
    "\n",
    "# Create object p1 of the Person class\n",
    "p1 = Person(\"John\", 36)\n",
    "\n",
    "print(p1.name)\n",
    "print(p1.age)\n"
   ]
  },
  {
   "cell_type": "markdown",
   "id": "842d5224-e295-47ef-bc1c-6c80e5f21069",
   "metadata": {},
   "source": [
    "#### Q2. Name the four pillars of OOPs."
   ]
  },
  {
   "cell_type": "markdown",
   "id": "aecfc2ea-d012-4995-a062-874fd4791127",
   "metadata": {},
   "source": [
    "Ans. The four pillars of Object-Oriented Programming (OOP) are:\n",
    "\n",
    "1. **Encapsulation**: Encapsulation refers to the practice of hiding the internal details of an object from the outside world and providing a public interface to access and manipulate the object. In other words, encapsulation ensures that an object's internal state cannot be directly accessed or modified by external code, and instead, it provides a set of public methods or properties that can be used to interact with the object.\n",
    "\n",
    "2. **Abstraction**: Abstraction refers to the process of creating a simplified representation of a complex system. In OOP, abstraction involves focusing on the essential features of an object or a system while ignoring the non-essential details. Abstraction is achieved through the use of abstract classes, interfaces, and inheritance.\n",
    "\n",
    "3. **Inheritance**: Inheritance is a mechanism that allows a new class to be based on an existing class, inheriting its properties and methods. The existing class is called the base or parent class, and the new class is called the derived or child class. Inheritance enables code reuse and allows for the creation of a hierarchy of classes, where the derived classes add new functionality or modify the behavior of the base class.\n",
    "\n",
    "4. **Polymorphism**: Polymorphism is the ability of objects to take on many forms or to have multiple behaviors. In OOP, polymorphism allows objects of different classes to be treated as if they are objects of the same class, provided they share a common interface or a parent class. Polymorphism is achieved through the use of overriding, overloading, and interface implementation."
   ]
  },
  {
   "cell_type": "markdown",
   "id": "71f77154-037d-439c-a913-896d690be027",
   "metadata": {},
   "source": [
    "#### Q3. Explain why the __init__() function is used. Give a suitable example."
   ]
  },
  {
   "cell_type": "markdown",
   "id": "a7d66a8c-4d8b-4c23-af66-de9e4d5e56bd",
   "metadata": {},
   "source": [
    "Ans. In Python, the **init()** function is a special method that is called automatically when an object of a class is created. It is used to initialize the object's attributes and perform any necessary setup operations.\n",
    "\n",
    "The **init()** function is commonly used to define the initial state of an object by setting its instance variables. For example, consider a class called Car:"
   ]
  },
  {
   "cell_type": "code",
   "execution_count": 7,
   "id": "a5b7c506-5046-47ef-83db-0af351f31c0b",
   "metadata": {},
   "outputs": [
    {
     "name": "stdout",
     "output_type": "stream",
     "text": [
      "Civic\n",
      "Honda\n",
      "2021\n"
     ]
    }
   ],
   "source": [
    "class Car:\n",
    "    def __init__(self, make, model, year):\n",
    "        self.make = make\n",
    "        self.model = model\n",
    "        self.year = year\n",
    "        \n",
    "my_car = Car('Honda', 'Civic', 2021)\n",
    "print(my_car.model)\n",
    "print(my_car.make)\n",
    "print(my_car.year)"
   ]
  },
  {
   "cell_type": "markdown",
   "id": "cf0797cc-1c1a-489d-88bd-22ff0c402d5e",
   "metadata": {},
   "source": [
    "#### Q4. Why self is used in OOPs?"
   ]
  },
  {
   "cell_type": "markdown",
   "id": "ee244738-88dd-4529-a0e3-6a8301f239d9",
   "metadata": {},
   "source": [
    "Ans. The **self** parameter is a reference to the current instance of the class, and is used to access variables that belongs to the class.\n",
    "It does not have to be named self , we can call it whatever we like, but it has to be the first parameter of any function in the class:"
   ]
  },
  {
   "cell_type": "code",
   "execution_count": 12,
   "id": "1a54f6f2-8478-4880-ad0e-4db72a341e60",
   "metadata": {},
   "outputs": [
    {
     "name": "stdout",
     "output_type": "stream",
     "text": [
      "Hello my name is OweJone\n"
     ]
    }
   ],
   "source": [
    "class Person:\n",
    "    def __init__(mysillyobject, name, age):\n",
    "        mysillyobject.name = name\n",
    "        mysillyobject.age = age\n",
    "\n",
    "    def myfunc(abc):\n",
    "        print(\"Hello my name is \" + abc.name)\n",
    "\n",
    "p1 = Person(\"OweJone\", 36)\n",
    "p1.myfunc()"
   ]
  },
  {
   "cell_type": "markdown",
   "id": "e3d12697-aab1-4d89-b767-1999f312ce72",
   "metadata": {},
   "source": [
    "#### Q5. What is inheritance? Give an example for each type of inheritance."
   ]
  },
  {
   "cell_type": "markdown",
   "id": "e038a924-6d4c-444a-b048-3b046161dbe1",
   "metadata": {},
   "source": [
    "Ans. **Inheritance** is a mechanism in object-oriented programming (OOP) that allows a new class to be based on an existing class, inheriting its properties and methods. The existing class is called the base or parent class, and the new class is called the derived or child class. Inheritance enables code reuse and allows for the creation of a hierarchy of classes, where the derived classes add new functionality or modify the behavior of the base class.\n",
    "\n",
    "There are four types of inheritance in Python:\n",
    "\n",
    "1. Single Inheritance: In single inheritance, a derived class is created by inheriting the properties and methods of a single base class."
   ]
  },
  {
   "cell_type": "code",
   "execution_count": 14,
   "id": "5efa5cd2-021e-4b62-a7bf-f6edf37600ae",
   "metadata": {},
   "outputs": [
    {
     "name": "stdout",
     "output_type": "stream",
     "text": [
      "Fido barks\n"
     ]
    }
   ],
   "source": [
    "class Animal:\n",
    "    def __init__(self, name):\n",
    "        self.name = name\n",
    "\n",
    "    def speak(self):\n",
    "        print(f\"{self.name} makes a sound\")\n",
    "\n",
    "class Dog(Animal): #the Dog class inherits from the Animal class using single inheritance\n",
    "    def speak(self):\n",
    "        print(f\"{self.name} barks\")\n",
    "\n",
    "my_dog = Dog(\"Fido\")\n",
    "my_dog.speak() # Output: Fido barks\n"
   ]
  },
  {
   "cell_type": "markdown",
   "id": "4f6217db-025f-4aef-a6a1-f06373a42b18",
   "metadata": {},
   "source": [
    "2. Multiple Inheritance: In multiple inheritance, a derived class is created by inheriting the properties and methods of multiple base classes."
   ]
  },
  {
   "cell_type": "code",
   "execution_count": 16,
   "id": "53c9c5d0-d240-4e6a-8cad-1cc1420ea5f7",
   "metadata": {},
   "outputs": [
    {
     "name": "stdout",
     "output_type": "stream",
     "text": [
      "Batty makes a sound\n",
      "Batty flies\n"
     ]
    }
   ],
   "source": [
    "class Animal:\n",
    "    def __init__(self, name):\n",
    "        self.name = name\n",
    "\n",
    "    def speak(self):\n",
    "        print(f\"{self.name} makes a sound\")\n",
    "\n",
    "class Flyable:\n",
    "    def fly(self):\n",
    "        print(f\"{self.name} flies\")\n",
    "\n",
    "class Bat(Animal, Flyable): #Multiple Inheritance\n",
    "    pass\n",
    "\n",
    "my_bat = Bat(\"Batty\")\n",
    "my_bat.speak() # Output: Batty makes a sound\n",
    "my_bat.fly() # Output: Batty flies\n"
   ]
  },
  {
   "cell_type": "markdown",
   "id": "a6db8f59-68a9-4382-a76c-e6321b9a9474",
   "metadata": {},
   "source": [
    "3. Hierarchical Inheritance: In hierarchical inheritance, multiple derived classes inherit from a single base class."
   ]
  },
  {
   "cell_type": "code",
   "execution_count": 18,
   "id": "ae5d20e6-33ff-415f-bc0b-68f29feb7ceb",
   "metadata": {},
   "outputs": [
    {
     "name": "stdout",
     "output_type": "stream",
     "text": [
      "Fido barks\n",
      "Whiskers meows\n"
     ]
    }
   ],
   "source": [
    "class Animal:\n",
    "    def __init__(self, name):\n",
    "        self.name = name\n",
    "\n",
    "    def speak(self):\n",
    "        print(f\"{self.name} makes a sound\")\n",
    "\n",
    "class Dog(Animal):\n",
    "    def speak(self):\n",
    "        print(f\"{self.name} barks\")\n",
    "\n",
    "class Cat(Animal): \n",
    "    def speak(self):\n",
    "        print(f\"{self.name} meows\")\n",
    "\n",
    "my_dog = Dog(\"Fido\")\n",
    "my_cat = Cat(\"Whiskers\")\n",
    "\n",
    "my_dog.speak() # Output: Fido barks\n",
    "my_cat.speak() # Output: Whiskers meows\n"
   ]
  },
  {
   "cell_type": "markdown",
   "id": "51048b6c-3358-4a7e-ba69-ac707f9c88dd",
   "metadata": {},
   "source": [
    "4. Multi-level Inheritance: In multi-level inheritance, a derived class is created by inheriting from a derived class, which in turn inherits from a base class."
   ]
  },
  {
   "cell_type": "code",
   "execution_count": 22,
   "id": "121c1aff-1f13-439a-8623-ed4b0df5043c",
   "metadata": {},
   "outputs": [
    {
     "name": "stdout",
     "output_type": "stream",
     "text": [
      "Buddy is eating.\n",
      "Woof!\n",
      "Buddy is running.\n"
     ]
    }
   ],
   "source": [
    "class Animal:\n",
    "    def __init__(self, name):\n",
    "        self.name = name\n",
    "    \n",
    "    def eat(self):\n",
    "        print(self.name + \" is eating.\")\n",
    "    \n",
    "class Dog(Animal): #subclass of Animal\n",
    "    def bark(self):\n",
    "        print(\"Woof!\")\n",
    "        \n",
    "class Bulldog(Dog): #subclass of dog\n",
    "    def __init__(self, name, breed):\n",
    "        super().__init__(name)\n",
    "        self.breed = breed\n",
    "        \n",
    "    def run(self):\n",
    "        print(self.name + \" is running.\")\n",
    "        \n",
    "buddy = Bulldog(\"Buddy\", \"Bulldog\")\n",
    "buddy.eat()   # Output: Buddy is eating.\n",
    "buddy.bark()  # Output: Woof!\n",
    "buddy.run()   # Output: Buddy is running.\n"
   ]
  }
 ],
 "metadata": {
  "kernelspec": {
   "display_name": "Python 3 (ipykernel)",
   "language": "python",
   "name": "python3"
  },
  "language_info": {
   "codemirror_mode": {
    "name": "ipython",
    "version": 3
   },
   "file_extension": ".py",
   "mimetype": "text/x-python",
   "name": "python",
   "nbconvert_exporter": "python",
   "pygments_lexer": "ipython3",
   "version": "3.10.8"
  }
 },
 "nbformat": 4,
 "nbformat_minor": 5
}
