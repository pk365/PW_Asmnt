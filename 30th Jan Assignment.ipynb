{
 "cells": [
  {
   "cell_type": "markdown",
   "id": "a04da6bc-3bb5-4ba6-a3ed-3f909223a747",
   "metadata": {
    "tags": []
   },
   "source": [
    " #              Assignment 2 \n",
    " ####       Dated 30th Jan 2023\n",
    "#### Q1. Write a program to accept percentage from the user and display the grade\n",
    "according to the following criteria:\n",
    "\n",
    "#### Marks  -    Grade\n",
    "\n",
    "##### >90   -    A\n",
    "\n",
    "##### >80 and <=90   -  B\n",
    "\n",
    "##### >=60 and <=80  -  C\n",
    "\n",
    "##### below 60       -  D"
   ]
  },
  {
   "cell_type": "code",
   "execution_count": 3,
   "id": "bdf1867a-561d-4bc0-9199-9221a2704a9b",
   "metadata": {},
   "outputs": [
    {
     "name": "stdin",
     "output_type": "stream",
     "text": [
      "Enter your obatained percentage here 81\n"
     ]
    },
    {
     "name": "stdout",
     "output_type": "stream",
     "text": [
      "Your Grade is B\n"
     ]
    }
   ],
   "source": [
    "mark=int(input(\"Enter your obatained percentage here\"))\n",
    "if mark>90:\n",
    "    grade=\"A\"\n",
    "elif mark>80 and mark<=90:\n",
    "    grade=\"B\"\n",
    "elif mark>=60 and mark<=80:\n",
    "    grade=\"C\"\n",
    "else:\n",
    "    grade=\"D\"\n",
    "print(f\"Your Grade is {grade}\")"
   ]
  },
  {
   "cell_type": "markdown",
   "id": "0e3c7fc3-b952-4a67-93b2-4be57a4d2651",
   "metadata": {},
   "source": [
    "#### Q2. Write a program to accept the cost price of a bike and display the road tax to be paid according to the following criteria:\n"
   ]
  },
  {
   "cell_type": "markdown",
   "id": "b4a8f152-99bd-422b-8483-5bdb4897f74a",
   "metadata": {},
   "source": [
    "###### Tax - Cost Price (in Rs)\n",
    "###### 15% - >100000\n",
    "###### 10% - >50000 and <=100000\n",
    "###### 5% - <=50000"
   ]
  },
  {
   "cell_type": "code",
   "execution_count": 6,
   "id": "c2d1ff29-4236-444a-9072-1e6f6765c71d",
   "metadata": {},
   "outputs": [
    {
     "name": "stdin",
     "output_type": "stream",
     "text": [
      "Enter the Bike price here 86000\n"
     ]
    },
    {
     "name": "stdout",
     "output_type": "stream",
     "text": [
      "Road tax is : 8600.0\n"
     ]
    }
   ],
   "source": [
    "Bike_cost=int(input(\"Enter the Bike price here\"))\n",
    "if Bike_cost>100000:\n",
    "    tax=Bike_cost*0.15\n",
    "elif Bike_cost>50000 and Bike_cost<=100000:\n",
    "    tax=Bike_cost*0.1\n",
    "else:\n",
    "    tax=Bike_cost*0.05\n",
    "print(f\"Road tax is : {tax}\")\n"
   ]
  },
  {
   "cell_type": "markdown",
   "id": "6cc8bb20-0924-47c5-bd41-f76b1af11eed",
   "metadata": {},
   "source": [
    "#### Q3. Accept any city from the user and display monuments of that city.\n",
    "City - Monument\n",
    "\n",
    "Delhi - Red Fort\n",
    "\n",
    "Agra - Taj Mahal\n",
    "\n",
    "Jaipur - Jal Mahal\n"
   ]
  },
  {
   "cell_type": "code",
   "execution_count": 4,
   "id": "5c5645ac-2c9f-4cdf-9cca-5f141281711b",
   "metadata": {},
   "outputs": [
    {
     "name": "stdin",
     "output_type": "stream",
     "text": [
      "Enter the city name : delhi\n"
     ]
    },
    {
     "name": "stdout",
     "output_type": "stream",
     "text": [
      "Monument of the selected city is : Red Fort\n"
     ]
    }
   ],
   "source": [
    "city=input(\"Enter the city name :\").lower()\n",
    "if city==\"delhi\":\n",
    "    monu=\"Red Fort\"\n",
    "elif city==\"agra\":\n",
    "    monu=\"Taj Mahal\"\n",
    "elif city==\"Jaipur\":\n",
    "    monu=\"Jal Mahul\"\n",
    "else:\n",
    "    monu=\"Date not found\"\n",
    "print(f\"Monument of the selected city is : {monu}\")\n"
   ]
  },
  {
   "cell_type": "markdown",
   "id": "d29cff45-3244-46c1-ad93-cf36a1634e7c",
   "metadata": {},
   "source": [
    "#### Q4. Check how many times a given number can be divided by 3 before it is less than or equal to 10."
   ]
  },
  {
   "cell_type": "code",
   "execution_count": 2,
   "id": "e208ca92-6b7a-4eeb-97ec-0d3623db0086",
   "metadata": {},
   "outputs": [
    {
     "name": "stdin",
     "output_type": "stream",
     "text": [
      "Enter your number: 5000\n"
     ]
    },
    {
     "name": "stdout",
     "output_type": "stream",
     "text": [
      "The given number can be divided 6 times by 3 before the given number is less than or equal to 10.\n"
     ]
    }
   ],
   "source": [
    "n=int(input(\"Enter your number:\"))\n",
    "count=0\n",
    "while n>=10:\n",
    "    n/=3\n",
    "    count+=1\n",
    "print(\"The given number can be divided\",count, \"times by 3 before the given number is less than or equal to 10.\")"
   ]
  },
  {
   "cell_type": "markdown",
   "id": "7467210a-47ea-4680-a18c-657d909bc2a5",
   "metadata": {},
   "source": [
    "#### Q5. Why and when to use while Loop in Python give a detailed description with\n",
    "example. \n",
    "\n",
    "##### Ans. While Loop in python execute a block of code until the given condition remains true. it used Whenever you do not know in advance how many times block of code or task required repeation \n",
    "\n",
    "#### Eg.\n"
   ]
  },
  {
   "cell_type": "code",
   "execution_count": 3,
   "id": "48022b90-d733-401c-a1fd-17a57d2f407a",
   "metadata": {},
   "outputs": [
    {
     "name": "stdin",
     "output_type": "stream",
     "text": [
      "Enter the no. of element: 6\n"
     ]
    },
    {
     "name": "stdout",
     "output_type": "stream",
     "text": [
      "0\n",
      "1\n",
      "1\n",
      "2\n",
      "3\n",
      "5\n"
     ]
    }
   ],
   "source": [
    "# To print fibonacci Series using While loop\n",
    "number=int(input(\"Enter the no. of element:\"))\n",
    "a , b = 0 , 1\n",
    "counter = 0\n",
    "while counter<number :\n",
    "    print(a)\n",
    "    c=a+b\n",
    "    a=b\n",
    "    b=c\n",
    "    counter=counter+1"
   ]
  },
  {
   "cell_type": "markdown",
   "id": "18e251c7-6843-45eb-a54b-936ab07d73ce",
   "metadata": {},
   "source": [
    "#### Q6. Use nested while loop to print 3 different pattern."
   ]
  },
  {
   "cell_type": "code",
   "execution_count": 11,
   "id": "4936c180-9e30-4f0f-bb52-d3b019fecb12",
   "metadata": {},
   "outputs": [
    {
     "name": "stdout",
     "output_type": "stream",
     "text": [
      "*\n",
      "*********\n",
      "********\n",
      "*******\n",
      "******\n",
      "*****\n",
      "****\n",
      "***\n",
      "**\n",
      "*\n",
      "\n",
      "**\n",
      "***\n",
      "****\n",
      "*****\n",
      "******\n",
      "*******\n",
      "********\n",
      "*********\n",
      "**********\n"
     ]
    }
   ],
   "source": [
    "#First Pattern\n",
    "i=0\n",
    "j=10\n",
    "while i<10 :\n",
    "    i=i+1\n",
    "    print(\"*\"*i)\n",
    "    while j>0 :\n",
    "        j=j-1\n",
    "        print(\"*\"*j) "
   ]
  },
  {
   "cell_type": "code",
   "execution_count": 4,
   "id": "6809a09d-f40f-4bf4-8906-e243a21b3ab3",
   "metadata": {},
   "outputs": [
    {
     "name": "stdin",
     "output_type": "stream",
     "text": [
      "Enter number of rows :  12\n"
     ]
    },
    {
     "name": "stdout",
     "output_type": "stream",
     "text": [
      "* \n",
      "* * \n",
      "* * * \n",
      "* * * * \n",
      "* * * * * \n",
      "* * * * * * \n",
      "* * * * * * * \n",
      "* * * * * * * * \n",
      "* * * * * * * * * \n",
      "* * * * * * * * * * \n",
      "* * * * * * * * * * * \n",
      "* * * * * * * * * * * * \n"
     ]
    }
   ],
   "source": [
    "# 2nd Pattern\n",
    "n = int(input('Enter number of rows : '))\n",
    "i = 1\n",
    "while i <= n :\n",
    "    j = 1\n",
    "    while j <= i:\n",
    "        print(\"*\", end = \" \")\n",
    "        j += 1\n",
    "    print()\n",
    "    i += 1"
   ]
  },
  {
   "cell_type": "code",
   "execution_count": 3,
   "id": "eafebb07-b69b-4898-9b58-f8082f1690c8",
   "metadata": {},
   "outputs": [
    {
     "name": "stdin",
     "output_type": "stream",
     "text": [
      "Enter number of rows :  12\n"
     ]
    },
    {
     "name": "stdout",
     "output_type": "stream",
     "text": [
      "* * * * * * * * * * * * \n",
      "* * * * * * * * * * * \n",
      "* * * * * * * * * * \n",
      "* * * * * * * * * \n",
      "* * * * * * * * \n",
      "* * * * * * * \n",
      "* * * * * * \n",
      "* * * * * \n",
      "* * * * \n",
      "* * * \n",
      "* * \n",
      "* \n"
     ]
    }
   ],
   "source": [
    "#3rd Pattern\n",
    "n = int(input('Enter number of rows : '))\n",
    " \n",
    "i = 1\n",
    "while i <= n :\n",
    "    j = n\n",
    "    while j >= i:\n",
    "        print(\"*\", end = \" \")\n",
    "        j -= 1\n",
    "    print()\n",
    "    i += 1"
   ]
  },
  {
   "cell_type": "markdown",
   "id": "e3e19f15-4e82-4e43-87b3-5cb8b2903128",
   "metadata": {},
   "source": [
    "#### Q7. Reverse a while loop to display numbers from 10 to 1."
   ]
  },
  {
   "cell_type": "code",
   "execution_count": 1,
   "id": "a4d5d543-4387-40da-927b-c15f938516ea",
   "metadata": {},
   "outputs": [
    {
     "name": "stdout",
     "output_type": "stream",
     "text": [
      "10\n",
      "9\n",
      "8\n",
      "7\n",
      "6\n",
      "5\n",
      "4\n",
      "3\n",
      "2\n",
      "1\n"
     ]
    }
   ],
   "source": [
    "n=10\n",
    "j=0\n",
    "while j<10:\n",
    "    print(n-j)\n",
    "    j=j+1"
   ]
  },
  {
   "cell_type": "markdown",
   "id": "3858409e-2b38-48a7-a503-dc9a6d94367a",
   "metadata": {},
   "source": [
    "#### Q8. Reverse a while loop to display numbers from 10 to 1."
   ]
  },
  {
   "cell_type": "code",
   "execution_count": 2,
   "id": "d7643125-c7b2-4475-8d4c-de37abb03125",
   "metadata": {},
   "outputs": [
    {
     "name": "stdout",
     "output_type": "stream",
     "text": [
      "10\n",
      "9\n",
      "8\n",
      "7\n",
      "6\n",
      "5\n",
      "4\n",
      "3\n",
      "2\n",
      "1\n"
     ]
    }
   ],
   "source": [
    "n=10\n",
    "while n>0 :\n",
    "    print(n)\n",
    "    n=n-1"
   ]
  }
 ],
 "metadata": {
  "kernelspec": {
   "display_name": "Python 3 (ipykernel)",
   "language": "python",
   "name": "python3"
  },
  "language_info": {
   "codemirror_mode": {
    "name": "ipython",
    "version": 3
   },
   "file_extension": ".py",
   "mimetype": "text/x-python",
   "name": "python",
   "nbconvert_exporter": "python",
   "pygments_lexer": "ipython3",
   "version": "3.10.8"
  }
 },
 "nbformat": 4,
 "nbformat_minor": 5
}
